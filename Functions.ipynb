{
 "cells": [
  {
   "cell_type": "markdown",
   "id": "df98dc4b",
   "metadata": {},
   "source": [
    "### Modularizing with Functions\n",
    "\n",
    "Hal owns a business named Make Your Own Music, which sells guitars, drums, \n",
    "banjos, synthesizers, and many other musical instruments. Hal's sales \n",
    "staff works strictly on commission. At the end of the month, \n",
    "each salesperson's commission is calculated according to sales commission rates.\n",
    "\n",
    "\n",
    "Sales This Month |Commission Rate\n",
    ":----------------|--------------:\n",
    "Less than 10,000 | 10%           \n",
    "10,000 - 14,999 | 12%           \n",
    "15,000 - 17,999 | 14%           \n",
    "18,000 - 21,999 | 16%           \n",
    "22,000 or more  | 18%      \n",
    "\n",
    "For example, a salesperson with 16,000 in monthly sales will earn a 14 percent commission (2,240). Another salesperson with 18,000 in monthly sales will earn a 16 percent commission (2,880). A person with 30,000 in sales will earn an 18 percent commission (5,400).\n",
    "Because the staff gets paid once per month, Hal allows each employee to take up to 2,000 per month in advance. when sales commissions are calculated, the amount of each employee's advanced pay is substracted from the commission. If any salesperson's commissions are less than the amount of their advance, they must reimburse Hal for the difference.\n",
    "To calculate a salesperson's monthly pay, Hal uses the formula:\n",
    "#### Pay = sales X commission rate - advanced pay\n",
    "Hal has asked you to wrte a program that makes this calculation for him. The folloeing general algorithm outlines the steps the program must take.\n",
    "\n",
    "1. Get the salesperson's monthly sales.\n",
    "2. Get the amount of advanced pay.\n",
    "3. Use the amount of monthly sales to determine the commisssion rate.\n",
    "4. Calculate the salesperson's pay using the formula previously shown. If the amount is negative, indicate that the salesperson must reimburse the company.\n",
    "\n"
   ]
  },
  {
   "cell_type": "code",
   "execution_count": 3,
   "id": "c113647f",
   "metadata": {},
   "outputs": [
    {
     "name": "stdout",
     "output_type": "stream",
     "text": [
      "Enter your monthly sales: 15000\n",
      "Advanced pay: 2000\n",
      "The pay is $ 100.0\n"
     ]
    }
   ],
   "source": [
    "#functions\n",
    "# This program calculates a Salesperson's pay\n",
    "\n",
    "def CalculatePay():\n",
    "    # This function get the amount of sales\n",
    "    sales = sales_amount()\n",
    "\n",
    "    # This get the amount of advanced pay.\n",
    "    advanced_pay = get_advanced_pay()\n",
    "\n",
    "   # This determine the commission rate\n",
    "    comm_rate = get_comm_rate(sales)\n",
    "\n",
    "     # This calculate the pay.\n",
    "    pay = sales * comm_rate - advanced_pay\n",
    "\n",
    "    # Display the amount of pay.\n",
    "    print(\"The pay is $\", pay)\n",
    "    \n",
    "    \n",
    "    # This determine whether the pay is negative.\n",
    "    if pay < 0:\n",
    "        print(\"The Salesperson must reimburse the company.\")\n",
    "\n",
    "\n",
    "# This function gets a Salesperson's monthly sales from the user and returns that value.\n",
    "def sales_amount():\n",
    "    monthly_sales = float(input(\"Enter your monthly sales: \"))\n",
    "    return monthly_sales\n",
    "\n",
    "# This function gets the amount of advanced pay given to the salesperson and returns that amount.\n",
    "def get_advanced_pay():\n",
    "    advanced = float(input(\"Advanced pay: \"))\n",
    "    return advanced\n",
    "\n",
    "# This function accepts the amount of sales as argument and returns the equivalent commission rate.\n",
    "def get_comm_rate(sales):\n",
    "    if sales < 10000:\n",
    "        rate =  0.10\n",
    "    elif sales >= 10000 and sales <= 14999:\n",
    "        rate = 0.12\n",
    "    elif sales >= 15000 and sales <= 17999:\n",
    "        rate = 0.14\n",
    "    elif sales >= 18000 and sales <= 21999:\n",
    "        rate = 0.16\n",
    "    else:\n",
    "        rate =  0.18\n",
    "\n",
    "    return rate\n",
    "\n",
    "# Call the main function.\n",
    "CalculatePay()"
   ]
  },
  {
   "cell_type": "code",
   "execution_count": null,
   "id": "42a32f6e",
   "metadata": {},
   "outputs": [],
   "source": []
  },
  {
   "cell_type": "code",
   "execution_count": null,
   "id": "917f0712",
   "metadata": {},
   "outputs": [],
   "source": []
  }
 ],
 "metadata": {
  "kernelspec": {
   "display_name": "Python 3 (ipykernel)",
   "language": "python",
   "name": "python3"
  },
  "language_info": {
   "codemirror_mode": {
    "name": "ipython",
    "version": 3
   },
   "file_extension": ".py",
   "mimetype": "text/x-python",
   "name": "python",
   "nbconvert_exporter": "python",
   "pygments_lexer": "ipython3",
   "version": "3.9.12"
  }
 },
 "nbformat": 4,
 "nbformat_minor": 5
}
